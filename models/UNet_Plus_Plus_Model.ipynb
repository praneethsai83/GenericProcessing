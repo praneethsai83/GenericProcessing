{
  "nbformat": 4,
  "nbformat_minor": 0,
  "metadata": {
    "colab": {
      "provenance": [],
      "machine_shape": "hm",
      "gpuType": "T4",
      "mount_file_id": "11-fD5ZLMd77Nd0hEKpg_zPlgBlpjxFJz",
      "authorship_tag": "ABX9TyPfdL3ysRKPrHToCFWhPU3/",
      "include_colab_link": true
    },
    "kernelspec": {
      "name": "python3",
      "display_name": "Python 3"
    },
    "language_info": {
      "name": "python"
    },
    "accelerator": "GPU"
  },
  "cells": [
    {
      "cell_type": "markdown",
      "metadata": {
        "id": "view-in-github",
        "colab_type": "text"
      },
      "source": [
        "<a href=\"https://colab.research.google.com/github/praneethsai83/GenericProcessing/blob/main/models/UNet_Plus_Plus_Model.ipynb\" target=\"_parent\"><img src=\"https://colab.research.google.com/assets/colab-badge.svg\" alt=\"Open In Colab\"/></a>"
      ]
    },
    {
      "cell_type": "code",
      "source": [
        "!pip install import-ipynb"
      ],
      "metadata": {
        "colab": {
          "base_uri": "https://localhost:8080/"
        },
        "id": "VWxYITmeR3V1",
        "outputId": "0dda9372-9f70-4705-c563-20238f7b918c"
      },
      "execution_count": null,
      "outputs": [
        {
          "output_type": "stream",
          "name": "stdout",
          "text": [
            "Collecting import-ipynb\n",
            "  Downloading import_ipynb-0.1.4-py3-none-any.whl (4.1 kB)\n",
            "Requirement already satisfied: IPython in /usr/local/lib/python3.10/dist-packages (from import-ipynb) (7.34.0)\n",
            "Requirement already satisfied: nbformat in /usr/local/lib/python3.10/dist-packages (from import-ipynb) (5.10.4)\n",
            "Requirement already satisfied: setuptools>=18.5 in /usr/local/lib/python3.10/dist-packages (from IPython->import-ipynb) (67.7.2)\n",
            "Collecting jedi>=0.16 (from IPython->import-ipynb)\n",
            "  Downloading jedi-0.19.1-py2.py3-none-any.whl (1.6 MB)\n",
            "\u001b[2K     \u001b[90m━━━━━━━━━━━━━━━━━━━━━━━━━━━━━━━━━━━━━━━━\u001b[0m \u001b[32m1.6/1.6 MB\u001b[0m \u001b[31m6.6 MB/s\u001b[0m eta \u001b[36m0:00:00\u001b[0m\n",
            "\u001b[?25hRequirement already satisfied: decorator in /usr/local/lib/python3.10/dist-packages (from IPython->import-ipynb) (4.4.2)\n",
            "Requirement already satisfied: pickleshare in /usr/local/lib/python3.10/dist-packages (from IPython->import-ipynb) (0.7.5)\n",
            "Requirement already satisfied: traitlets>=4.2 in /usr/local/lib/python3.10/dist-packages (from IPython->import-ipynb) (5.7.1)\n",
            "Requirement already satisfied: prompt-toolkit!=3.0.0,!=3.0.1,<3.1.0,>=2.0.0 in /usr/local/lib/python3.10/dist-packages (from IPython->import-ipynb) (3.0.47)\n",
            "Requirement already satisfied: pygments in /usr/local/lib/python3.10/dist-packages (from IPython->import-ipynb) (2.16.1)\n",
            "Requirement already satisfied: backcall in /usr/local/lib/python3.10/dist-packages (from IPython->import-ipynb) (0.2.0)\n",
            "Requirement already satisfied: matplotlib-inline in /usr/local/lib/python3.10/dist-packages (from IPython->import-ipynb) (0.1.7)\n",
            "Requirement already satisfied: pexpect>4.3 in /usr/local/lib/python3.10/dist-packages (from IPython->import-ipynb) (4.9.0)\n",
            "Requirement already satisfied: fastjsonschema>=2.15 in /usr/local/lib/python3.10/dist-packages (from nbformat->import-ipynb) (2.20.0)\n",
            "Requirement already satisfied: jsonschema>=2.6 in /usr/local/lib/python3.10/dist-packages (from nbformat->import-ipynb) (4.19.2)\n",
            "Requirement already satisfied: jupyter-core!=5.0.*,>=4.12 in /usr/local/lib/python3.10/dist-packages (from nbformat->import-ipynb) (5.7.2)\n",
            "Requirement already satisfied: parso<0.9.0,>=0.8.3 in /usr/local/lib/python3.10/dist-packages (from jedi>=0.16->IPython->import-ipynb) (0.8.4)\n",
            "Requirement already satisfied: attrs>=22.2.0 in /usr/local/lib/python3.10/dist-packages (from jsonschema>=2.6->nbformat->import-ipynb) (23.2.0)\n",
            "Requirement already satisfied: jsonschema-specifications>=2023.03.6 in /usr/local/lib/python3.10/dist-packages (from jsonschema>=2.6->nbformat->import-ipynb) (2023.12.1)\n",
            "Requirement already satisfied: referencing>=0.28.4 in /usr/local/lib/python3.10/dist-packages (from jsonschema>=2.6->nbformat->import-ipynb) (0.35.1)\n",
            "Requirement already satisfied: rpds-py>=0.7.1 in /usr/local/lib/python3.10/dist-packages (from jsonschema>=2.6->nbformat->import-ipynb) (0.19.0)\n",
            "Requirement already satisfied: platformdirs>=2.5 in /usr/local/lib/python3.10/dist-packages (from jupyter-core!=5.0.*,>=4.12->nbformat->import-ipynb) (4.2.2)\n",
            "Requirement already satisfied: ptyprocess>=0.5 in /usr/local/lib/python3.10/dist-packages (from pexpect>4.3->IPython->import-ipynb) (0.7.0)\n",
            "Requirement already satisfied: wcwidth in /usr/local/lib/python3.10/dist-packages (from prompt-toolkit!=3.0.0,!=3.0.1,<3.1.0,>=2.0.0->IPython->import-ipynb) (0.2.13)\n",
            "Installing collected packages: jedi, import-ipynb\n",
            "Successfully installed import-ipynb-0.1.4 jedi-0.19.1\n"
          ]
        }
      ]
    },
    {
      "cell_type": "code",
      "source": [
        "%cd '/content/drive/MyDrive/Colab Notebooks/'"
      ],
      "metadata": {
        "colab": {
          "base_uri": "https://localhost:8080/"
        },
        "id": "1Asx-RU2RTPB",
        "outputId": "fc7d1121-308a-4f74-94ed-abf6fda18f32"
      },
      "execution_count": null,
      "outputs": [
        {
          "output_type": "stream",
          "name": "stdout",
          "text": [
            "/content/drive/MyDrive/Colab Notebooks\n"
          ]
        }
      ]
    },
    {
      "cell_type": "code",
      "source": [
        "import os\n",
        "import numpy as np\n",
        "from keras.preprocessing.image import load_img\n",
        "from matplotlib import pyplot as plt\n",
        "from tensorflow import keras\n",
        "import random\n",
        "import import_ipynb\n",
        "from utilities import *"
      ],
      "metadata": {
        "id": "a-um0GO1yPDL",
        "colab": {
          "base_uri": "https://localhost:8080/"
        },
        "outputId": "8bfc587c-e707-4152-dfed-0819eb2054bd"
      },
      "execution_count": null,
      "outputs": [
        {
          "output_type": "stream",
          "name": "stdout",
          "text": [
            "importing Jupyter notebook from utilities.ipynb\n"
          ]
        }
      ]
    },
    {
      "cell_type": "code",
      "source": [
        "train_img_fnames, train_mask_fnames, test_img_fnames, test_mask_fnames, pred_img_fnames = get_data_set_filenames()"
      ],
      "metadata": {
        "colab": {
          "base_uri": "https://localhost:8080/"
        },
        "id": "MgAQ_O5qhykS",
        "outputId": "22c45b4d-ff50-4e8a-990e-16e0551fef6d"
      },
      "execution_count": null,
      "outputs": [
        {
          "output_type": "stream",
          "name": "stdout",
          "text": [
            "Number of training images:  1000\n",
            "Number of training masks:  1000\n",
            "Number of testing images:  408\n",
            "Number of testing masks:  408\n",
            "Number of prediction images:  96\n"
          ]
        }
      ]
    },
    {
      "cell_type": "code",
      "source": [
        "batch_size = 8\n",
        "img_size = (160, 160)\n",
        "\n",
        "train_gen = ImageDataGenerator(batch_size, img_size, train_img_fnames, train_mask_fnames)\n",
        "val_gen = ImageDataGenerator(batch_size, img_size, test_img_fnames, test_mask_fnames)"
      ],
      "metadata": {
        "id": "ejnKygyS0lac"
      },
      "execution_count": null,
      "outputs": []
    },
    {
      "cell_type": "code",
      "source": [
        "fig, (ax1, ax2) = plt.subplots(1, 2)\n",
        "ax1.imshow(train_gen[0][0][1], interpolation='nearest')\n",
        "ax2.imshow(train_gen[0][1][1], interpolation='nearest')\n",
        "plt.show()"
      ],
      "metadata": {
        "colab": {
          "base_uri": "https://localhost:8080/",
          "height": 290
        },
        "id": "Rvkvl4XW1eak",
        "outputId": "54bb9ef4-9425-4e6f-bde6-682472671f6d"
      },
      "execution_count": null,
      "outputs": [
        {
          "output_type": "display_data",
          "data": {
            "text/plain": [
              "<Figure size 640x480 with 2 Axes>"
            ],
            "image/png": "[encoded data removed]"
          },
          "metadata": {}
        }
      ]
    },
    {
      "cell_type": "code",
      "source": [
        "import tensorflow as tf\n",
        "from tensorflow import keras\n",
        "from keras.layers import Input, Conv2D, MaxPooling2D, Activation, ReLU\n",
        "from keras.layers import BatchNormalization, Conv2DTranspose, Concatenate, Average\n",
        "from keras.models import Model, Sequential"
      ],
      "metadata": {
        "id": "025aPxji7zQj"
      },
      "execution_count": null,
      "outputs": []
    },
    {
      "cell_type": "markdown",
      "source": [
        "UNet++ Model Definition"
      ],
      "metadata": {
        "id": "7BEQtIm1Iynv"
      }
    },
    {
      "cell_type": "code",
      "source": [
        "def convolution_operation(entered_input, filters=64):\n",
        " # Taking first input and implementing the first conv block\n",
        " conv1 = Conv2D(filters, kernel_size = (3,3), padding = \"same\")(entered_input)\n",
        " batch_norm1 = BatchNormalization()(conv1)\n",
        " act1 = ReLU()(batch_norm1)\n",
        "\n",
        " # Taking first input and implementing the second conv block\n",
        " conv2 = Conv2D(filters, kernel_size = (3,3), padding = \"same\")(act1)\n",
        " batch_norm2 = BatchNormalization()(conv2)\n",
        " act2 = ReLU()(batch_norm2)\n",
        "\n",
        " return act2\n",
        "\n",
        "def encoder(entered_input, filters=64):\n",
        " # Collect the start and end of each sub-block for normal pass and skip connections\n",
        " enc1 = convolution_operation(entered_input, filters)\n",
        " MaxPool1 = MaxPooling2D(strides = (2,2))(enc1)\n",
        " return enc1, MaxPool1\n",
        "\n",
        "def decoder(entered_input, skips, filters=64):\n",
        " # Upsampling and concatenating the essential features\n",
        " Upsample = Conv2DTranspose(filters, (2, 2), strides=2, padding=\"same\")(entered_input)\n",
        " Connect_Skip = Concatenate()([Upsample] + skips)\n",
        " out = convolution_operation(Connect_Skip, filters)\n",
        " return out\n"
      ],
      "metadata": {
        "id": "ti6JdlDO73ZP"
      },
      "execution_count": null,
      "outputs": []
    },
    {
      "cell_type": "code",
      "source": [
        "def U_Net_plus_plus(Image_Size, deep_supervision=True):\n",
        " # Take the image size and shape\n",
        " input1 = Input(Image_Size)\n",
        "\n",
        " # Construct the encoder blocks\n",
        " x_00, encoder_1 = encoder(input1, 64)\n",
        " x_10, encoder_2 = encoder(encoder_1, 64*2)\n",
        " x_20, encoder_3 = encoder(encoder_2, 64*4)\n",
        " x_30, encoder_4 = encoder(encoder_3, 64*8)\n",
        " x_40 = convolution_operation(encoder_4, 64*16)\n",
        "\n",
        " # Construct the Nested decoder blocks\n",
        " x_01 = decoder(x_10, [x_00], 64)\n",
        " x_11 = decoder(x_20, [x_10], 64*2)\n",
        " x_21 = decoder(x_30, [x_20], 64*4)\n",
        " x_31 = decoder(x_40, [x_30], 64*8)\n",
        "\n",
        " x_02 = decoder(x_11, [x_00, x_01], 64)\n",
        " x_12 = decoder(x_21, [x_10, x_11], 64*2)\n",
        " x_22 = decoder(x_31, [x_20, x_21], 64*4)\n",
        "\n",
        " x_03 = decoder(x_12, [x_00, x_01, x_02], 64)\n",
        " x_13 = decoder(x_22, [x_10, x_11, x_12], 64*2)\n",
        "\n",
        " x_04 = decoder(x_13, [x_00, x_01, x_02, x_03], 64)\n",
        "\n",
        " if deep_supervision:\n",
        "  out = [\n",
        "      Conv2D(1, 1, padding=\"same\", activation=\"sigmoid\")(x_01),\n",
        "      Conv2D(1, 1, padding=\"same\", activation=\"sigmoid\")(x_02),\n",
        "      Conv2D(1, 1, padding=\"same\", activation=\"sigmoid\")(x_03),\n",
        "      Conv2D(1, 1, padding=\"same\", activation=\"sigmoid\")(x_04)\n",
        "  ]\n",
        "  out = Average()(out)\n",
        "  # out = Concatenate()(out)\n",
        " else:\n",
        "  out = Conv2D(1, 1, padding=\"same\", activation=\"sigmoid\")(x_04)\n",
        "  # out = [\n",
        "  #     Conv2D(1, 1, padding=\"same\", activation=\"sigmoid\")(x_04)\n",
        "  #     ]\n",
        "\n",
        " model = Model(input1, out)\n",
        " return model\n"
      ],
      "metadata": {
        "id": "IiQVeB5f76BR"
      },
      "execution_count": null,
      "outputs": []
    },
    {
      "cell_type": "code",
      "source": [
        "input_shape = (160, 160, 3)\n",
        "model = U_Net_plus_plus(input_shape, deep_supervision=True)"
      ],
      "metadata": {
        "id": "4leSmkUO777g"
      },
      "execution_count": null,
      "outputs": []
    },
    {
      "cell_type": "code",
      "source": [
        "import keras.backend as K\n",
        "def dice_coef(y_true, y_pred, smooth=100):\n",
        "    y_true_f = K.flatten(y_true)\n",
        "    y_pred_f = K.flatten(y_pred)\n",
        "    intersection = K.sum(y_true_f * y_pred_f)\n",
        "    dice = (2. * intersection + smooth) / (K.sum(y_true_f) + K.sum(y_pred_f) + smooth)\n",
        "    return dice"
      ],
      "metadata": {
        "id": "fW_nR2XdKsKp"
      },
      "execution_count": null,
      "outputs": []
    },
    {
      "cell_type": "code",
      "source": [
        "model.compile(optimizer=\"rmsprop\", loss=\"binary_crossentropy\", metrics=[\"accuracy\", keras.metrics.MeanIoU(num_classes=2), dice_coef])"
      ],
      "metadata": {
        "id": "UTRK_l-I7_F4"
      },
      "execution_count": null,
      "outputs": []
    },
    {
      "cell_type": "code",
      "source": [
        "callbacks = [\n",
        " keras.callbacks.ModelCheckpoint(\"/content/checkpoint/unet_plus_plus_model.keras\", save_best_only=True)\n",
        "]\n",
        "# Train the model, doing validation at the end of each epoch.\n",
        "epochs = 15\n",
        "model.fit(train_gen, epochs=epochs, validation_data=val_gen, callbacks=callbacks)"
      ],
      "metadata": {
        "colab": {
          "base_uri": "https://localhost:8080/"
        },
        "id": "yqoOAslc8DNk",
        "outputId": "0b94fbe9-e42f-41f2-ac43-1a65b8f6bd19"
      },
      "execution_count": null,
      "outputs": [
        {
          "output_type": "stream",
          "name": "stdout",
          "text": [
            "Epoch 1/15\n",
            "125/125 [==============================] - 330s 3s/step - loss: 0.2569 - accuracy: 0.8954 - mean_io_u_2: 0.3719 - dice_coef: 0.6971 - val_loss: 0.5515 - val_accuracy: 0.7879 - val_mean_io_u_2: 0.3727 - val_dice_coef: 0.3455\n",
            "Epoch 2/15\n",
            "125/125 [==============================] - 316s 3s/step - loss: 0.1211 - accuracy: 0.9597 - mean_io_u_2: 0.3719 - dice_coef: 0.8536 - val_loss: 0.2040 - val_accuracy: 0.9365 - val_mean_io_u_2: 0.3727 - val_dice_coef: 0.7823\n",
            "Epoch 3/15\n",
            "125/125 [==============================] - 316s 3s/step - loss: 0.0967 - accuracy: 0.9680 - mean_io_u_2: 0.3719 - dice_coef: 0.8838 - val_loss: 0.1226 - val_accuracy: 0.9597 - val_mean_io_u_2: 0.3727 - val_dice_coef: 0.8367\n",
            "Epoch 4/15\n",
            "125/125 [==============================] - 316s 3s/step - loss: 0.0783 - accuracy: 0.9739 - mean_io_u_2: 0.3719 - dice_coef: 0.9050 - val_loss: 0.2177 - val_accuracy: 0.8904 - val_mean_io_u_2: 0.3727 - val_dice_coef: 0.7118\n",
            "Epoch 5/15\n",
            "125/125 [==============================] - 316s 3s/step - loss: 0.0695 - accuracy: 0.9765 - mean_io_u_2: 0.3719 - dice_coef: 0.9154 - val_loss: 0.5316 - val_accuracy: 0.8505 - val_mean_io_u_2: 0.3727 - val_dice_coef: 0.5657\n",
            "Epoch 6/15\n",
            "125/125 [==============================] - 314s 3s/step - loss: 0.0672 - accuracy: 0.9767 - mean_io_u_2: 0.3719 - dice_coef: 0.9188 - val_loss: 0.2201 - val_accuracy: 0.8995 - val_mean_io_u_2: 0.3727 - val_dice_coef: 0.7322\n",
            "Epoch 7/15\n",
            "125/125 [==============================] - 317s 3s/step - loss: 0.0644 - accuracy: 0.9777 - mean_io_u_2: 0.3719 - dice_coef: 0.9227 - val_loss: 0.1066 - val_accuracy: 0.9699 - val_mean_io_u_2: 0.3727 - val_dice_coef: 0.8639\n",
            "Epoch 8/15\n",
            "125/125 [==============================] - 317s 3s/step - loss: 0.0609 - accuracy: 0.9787 - mean_io_u_2: 0.3719 - dice_coef: 0.9262 - val_loss: 0.0929 - val_accuracy: 0.9721 - val_mean_io_u_2: 0.3727 - val_dice_coef: 0.8680\n",
            "Epoch 9/15\n",
            "125/125 [==============================] - 315s 3s/step - loss: 0.0570 - accuracy: 0.9797 - mean_io_u_2: 0.3719 - dice_coef: 0.9304 - val_loss: 0.0713 - val_accuracy: 0.9772 - val_mean_io_u_2: 0.3727 - val_dice_coef: 0.9072\n",
            "Epoch 10/15\n",
            "125/125 [==============================] - 314s 3s/step - loss: 0.0551 - accuracy: 0.9803 - mean_io_u_2: 0.3719 - dice_coef: 0.9329 - val_loss: 0.1116 - val_accuracy: 0.9597 - val_mean_io_u_2: 0.3727 - val_dice_coef: 0.8727\n",
            "Epoch 11/15\n",
            "125/125 [==============================] - 315s 3s/step - loss: 0.0543 - accuracy: 0.9804 - mean_io_u_2: 0.3719 - dice_coef: 0.9335 - val_loss: 0.0910 - val_accuracy: 0.9710 - val_mean_io_u_2: 0.3727 - val_dice_coef: 0.8872\n",
            "Epoch 12/15\n",
            "125/125 [==============================] - 315s 3s/step - loss: 0.0518 - accuracy: 0.9810 - mean_io_u_2: 0.3719 - dice_coef: 0.9364 - val_loss: 0.0863 - val_accuracy: 0.9720 - val_mean_io_u_2: 0.3727 - val_dice_coef: 0.8919\n",
            "Epoch 13/15\n",
            "125/125 [==============================] - 314s 3s/step - loss: 0.0499 - accuracy: 0.9814 - mean_io_u_2: 0.3719 - dice_coef: 0.9384 - val_loss: 0.0751 - val_accuracy: 0.9769 - val_mean_io_u_2: 0.3727 - val_dice_coef: 0.9060\n",
            "Epoch 14/15\n",
            "125/125 [==============================] - 314s 3s/step - loss: 0.0496 - accuracy: 0.9814 - mean_io_u_2: 0.3719 - dice_coef: 0.9387 - val_loss: 0.0763 - val_accuracy: 0.9753 - val_mean_io_u_2: 0.3727 - val_dice_coef: 0.9146\n",
            "Epoch 15/15\n",
            "125/125 [==============================] - 316s 3s/step - loss: 0.0476 - accuracy: 0.9818 - mean_io_u_2: 0.3719 - dice_coef: 0.9409 - val_loss: 0.0611 - val_accuracy: 0.9801 - val_mean_io_u_2: 0.3727 - val_dice_coef: 0.9262\n"
          ]
        },
        {
          "output_type": "execute_result",
          "data": {
            "text/plain": [
              "<keras.src.callbacks.History at 0x7988e4329480>"
            ]
          },
          "metadata": {},
          "execution_count": 33
        }
      ]
    },
    {
      "cell_type": "code",
      "source": [
        "%cp /content/checkpoint/unet_plus_plus_model.keras /content/drive/MyDrive/Model/unet_plus_plus_model_with_deep_supervision_avg_v2.keras"
      ],
      "metadata": {
        "id": "YJvUQxjo6xgR"
      },
      "execution_count": null,
      "outputs": []
    },
    {
      "cell_type": "code",
      "source": [
        "# model.save(\"/content/drive/MyDrive/Model/unet_plus_plus_model_with_deep_supervision_avg_v1.keras\", overwrite=True)"
      ],
      "metadata": {
        "id": "nHmwNigHT0ls"
      },
      "execution_count": null,
      "outputs": []
    }
  ]
}